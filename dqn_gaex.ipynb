{
 "cells": [
  {
   "cell_type": "code",
   "execution_count": 1,
   "id": "df1a7ccf-04bc-40d8-8bd3-e4aa2ee95240",
   "metadata": {},
   "outputs": [],
   "source": [
    "%load_ext autoreload"
   ]
  },
  {
   "cell_type": "code",
   "execution_count": 2,
   "id": "4ba901a9-961a-434d-b785-ea8372928f3b",
   "metadata": {},
   "outputs": [],
   "source": [
    "%autoreload 2"
   ]
  },
  {
   "cell_type": "code",
   "execution_count": 3,
   "id": "eb4e2821-02b5-4a0e-a0e1-57a3125afedf",
   "metadata": {},
   "outputs": [],
   "source": [
    "from DQN import DQN, DQN_D, DQN_GAEX\n",
    "from MDP_chain import MDP_chain\n",
    "from tqdm.notebook import tqdm\n",
    "import torch\n",
    "import torch.nn as nn\n",
    "import math\n",
    "import random\n",
    "import matplotlib.pyplot as plt\n",
    "import numpy as np\n",
    "from functools import partial"
   ]
  },
  {
   "cell_type": "code",
   "execution_count": 4,
   "id": "4197fa88-2e35-4bab-b6ea-4a9a211321e4",
   "metadata": {},
   "outputs": [],
   "source": [
    "# device = torch.device('cuda' if torch.cuda.is_available() else 'cpu')\n",
    "device = 'cpu'"
   ]
  },
  {
   "cell_type": "code",
   "execution_count": 5,
   "id": "b8f2112d-146c-4717-b11a-37e0528061a0",
   "metadata": {},
   "outputs": [],
   "source": [
    "n_states = 10\n",
    "steps = n_states + 9\n",
    "n_episodes = 1000\n",
    "dqn_update_freq = 2 * steps\n",
    "gan_update_freq = 2 * steps\n",
    "env = MDP_chain(n_states)"
   ]
  },
  {
   "cell_type": "code",
   "execution_count": 16,
   "id": "f313358d-ac8d-47c7-8b34-fadbbfb28655",
   "metadata": {},
   "outputs": [],
   "source": [
    "dqn = DQN(dqn_update_freq)"
   ]
  },
  {
   "cell_type": "code",
   "execution_count": 17,
   "id": "13f6a687-da7e-48f4-86a1-724f413d27a8",
   "metadata": {
    "tags": []
   },
   "outputs": [
    {
     "data": {
      "application/vnd.jupyter.widget-view+json": {
       "model_id": "58ed3564968a4aa28ab2861c61281f9b",
       "version_major": 2,
       "version_minor": 0
      },
      "text/plain": [
       "  0%|          | 0/1000 [00:00<?, ?it/s]"
      ]
     },
     "metadata": {},
     "output_type": "display_data"
    }
   ],
   "source": [
    "rewards = []\n",
    "for episode in tqdm(range(n_episodes)):\n",
    "    s = env.reset()\n",
    "    s = torch.tensor([s], dtype=torch.float32, device=device).unsqueeze(0)\n",
    "    reward = 0\n",
    "    for t in range(steps):\n",
    "        a = dqn.action(s)\n",
    "        r, s_n = env.step(a)\n",
    "        \n",
    "        if t+1 == steps:\n",
    "            s_n = None\n",
    "        else:\n",
    "            reward += r.cpu().item()\n",
    "            \n",
    "        dqn.remember(s, a, s_n, r)\n",
    "        sa_vals, exp_sa_vals = dqn_d.step()\n",
    "        if sa_vals is not None:\n",
    "            dqn.optimize(sa_vals, exp_sa_vals)\n",
    "        \n",
    "        s = s_n\n",
    "            \n",
    "    rewards.append(reward)"
   ]
  },
  {
   "cell_type": "code",
   "execution_count": 18,
   "id": "c033ee7d-137f-434d-87e9-53cbc6e31573",
   "metadata": {},
   "outputs": [
    {
     "data": {
      "text/plain": [
       "[<matplotlib.lines.Line2D at 0x7f8a681b80d0>]"
      ]
     },
     "execution_count": 18,
     "metadata": {},
     "output_type": "execute_result"
    },
    {
     "data": {
      "image/png": "[encoded data removed]",
      "text/plain": [
       "<Figure size 640x480 with 1 Axes>"
      ]
     },
     "metadata": {},
     "output_type": "display_data"
    }
   ],
   "source": [
    "plt.plot(rewards)"
   ]
  },
  {
   "cell_type": "code",
   "execution_count": 8,
   "id": "0373339d-3fbd-4e75-8239-f70f45b768f1",
   "metadata": {},
   "outputs": [],
   "source": [
    "dqn_d = DQN_D(n_states, dqn_update_freq, gan_update_freq)"
   ]
  },
  {
   "cell_type": "code",
   "execution_count": 9,
   "id": "e4703c62-61ec-4b69-886d-e11a4b86c9e9",
   "metadata": {},
   "outputs": [
    {
     "data": {
      "application/vnd.jupyter.widget-view+json": {
       "model_id": "ea6ccf4e8a2540f780fb9dea5a88c7ca",
       "version_major": 2,
       "version_minor": 0
      },
      "text/plain": [
       "  0%|          | 0/1000 [00:00<?, ?it/s]"
      ]
     },
     "metadata": {},
     "output_type": "display_data"
    }
   ],
   "source": [
    "rewards = []\n",
    "for episode in tqdm(range(n_episodes)):\n",
    "    s = env.reset()\n",
    "    s = torch.tensor([s], dtype=torch.float32, device=device).unsqueeze(0)\n",
    "    reward = 0\n",
    "    for t in range(steps):\n",
    "        a = dqn_d.action(s)\n",
    "        r, s_n = env.step(a)\n",
    "        \n",
    "        if t+1 == steps:\n",
    "            s_n = None\n",
    "        else:\n",
    "            reward += r.cpu().item()\n",
    "            \n",
    "        dqn_d.remember(s, a, s_n, r)\n",
    "        sa_vals, exp_sa_vals = dqn_d.step()\n",
    "        if sa_vals is not None:\n",
    "            dqn_d.optimize(sa_vals, exp_sa_vals)\n",
    "        \n",
    "        s = s_n\n",
    "            \n",
    "    rewards.append(reward)"
   ]
  },
  {
   "cell_type": "code",
   "execution_count": 10,
   "id": "6057d1a3-e8de-4ba3-b711-dc0111d571b5",
   "metadata": {},
   "outputs": [
    {
     "data": {
      "text/plain": [
       "[<matplotlib.lines.Line2D at 0x7f66ea086ef0>]"
      ]
     },
     "execution_count": 10,
     "metadata": {},
     "output_type": "execute_result"
    },
    {
     "data": {
      "image/png": "[encoded data removed]",
      "text/plain": [
       "<Figure size 640x480 with 1 Axes>"
      ]
     },
     "metadata": {},
     "output_type": "display_data"
    }
   ],
   "source": [
    "plt.plot(rewards)"
   ]
  },
  {
   "cell_type": "code",
   "execution_count": 61,
   "id": "a6bc9350-badf-4e4b-91f2-14c92caab125",
   "metadata": {},
   "outputs": [],
   "source": [
    "dqn_gaex = DQN_GAEX(n_states, dqn_update_freq, gan_update_freq)"
   ]
  },
  {
   "cell_type": "code",
   "execution_count": 63,
   "id": "fa8003e8-548f-446e-a341-0fef9923d3cc",
   "metadata": {},
   "outputs": [
    {
     "data": {
      "application/vnd.jupyter.widget-view+json": {
       "model_id": "3b5f252c7e2748ca8d680a707bdb05e2",
       "version_major": 2,
       "version_minor": 0
      },
      "text/plain": [
       "  0%|          | 0/1000 [00:00<?, ?it/s]"
      ]
     },
     "metadata": {},
     "output_type": "display_data"
    }
   ],
   "source": [
    "rewards = []\n",
    "for episode in tqdm(range(1000)):\n",
    "    s = env.reset()\n",
    "    s = torch.tensor([s], dtype=torch.float32, device=device).unsqueeze(0)\n",
    "    reward = 0\n",
    "    for t in range(steps):\n",
    "        a = dqn_gaex.action(s)\n",
    "        r, s_n = env.step(a)\n",
    "        \n",
    "        if t+1 == steps:\n",
    "            s_n = None\n",
    "        else:\n",
    "            reward += r.cpu().item()\n",
    "            \n",
    "        dqn_gaex.remember(s, a, s_n, r)\n",
    "        sa_vals, exp_sa_vals = dqn_gaex.step()\n",
    "        if sa_vals is not None:\n",
    "            dqn_gaex.optimize(sa_vals, exp_sa_vals)\n",
    "        \n",
    "        s = s_n\n",
    "            \n",
    "    rewards.append(reward)"
   ]
  },
  {
   "cell_type": "code",
   "execution_count": 64,
   "id": "8f2f0cad-14e6-46ef-b942-21b5ba2c07dd",
   "metadata": {},
   "outputs": [
    {
     "data": {
      "text/plain": [
       "[<matplotlib.lines.Line2D at 0x7f66c811b880>]"
      ]
     },
     "execution_count": 64,
     "metadata": {},
     "output_type": "execute_result"
    },
    {
     "data": {
      "image/png": "[encoded data removed]",
      "text/plain": [
       "<Figure size 640x480 with 1 Axes>"
      ]
     },
     "metadata": {},
     "output_type": "display_data"
    }
   ],
   "source": [
    "plt.plot(rewards)"
   ]
  },
  {
   "cell_type": "code",
   "execution_count": 98,
   "id": "bfcea085-e5d6-46b1-96db-2549720cff2a",
   "metadata": {},
   "outputs": [],
   "source": [
    "n_episodes = 5000\n",
    "n_iters = 5"
   ]
  },
  {
   "cell_type": "code",
   "execution_count": 99,
   "id": "07f9b780-100d-4130-a770-abf33660a4cb",
   "metadata": {},
   "outputs": [],
   "source": [
    "n_states = 10\n",
    "steps = n_states + 9\n",
    "dqn_update_freq = 2 * steps\n",
    "gan_update_freq = 2 * steps\n",
    "env = MDP_chain(n_states)"
   ]
  },
  {
   "cell_type": "code",
   "execution_count": 100,
   "id": "f89ac8f6-d042-48d4-9b5b-94d236e6fd3b",
   "metadata": {},
   "outputs": [],
   "source": [
    "DQN_f = partial(DQN, dqn_update_freq)\n",
    "DQN_D_f = partial(DQN_D, n_states, dqn_update_freq, gan_update_freq)\n",
    "DQN_GAEX_f = partial(DQN_GAEX, n_states, dqn_update_freq, gan_update_freq)"
   ]
  },
  {
   "cell_type": "code",
   "execution_count": null,
   "id": "ffa6d576-6c52-4d26-a11b-32adf160cdf2",
   "metadata": {},
   "outputs": [
    {
     "data": {
      "application/vnd.jupyter.widget-view+json": {
       "model_id": "816e668074554cd38dd23b075e0870f0",
       "version_major": 2,
       "version_minor": 0
      },
      "text/plain": [
       "iters:   0%|          | 0/5 [00:00<?, ?it/s]"
      ]
     },
     "metadata": {},
     "output_type": "display_data"
    },
    {
     "data": {
      "application/vnd.jupyter.widget-view+json": {
       "model_id": "0adbce5fcd604890be55dcace0a5a57f",
       "version_major": 2,
       "version_minor": 0
      },
      "text/plain": [
       "model:   0%|          | 0/3 [00:00<?, ?it/s]"
      ]
     },
     "metadata": {},
     "output_type": "display_data"
    },
    {
     "data": {
      "application/vnd.jupyter.widget-view+json": {
       "model_id": "",
       "version_major": 2,
       "version_minor": 0
      },
      "text/plain": [
       "episode:   0%|          | 0/5000 [00:00<?, ?it/s]"
      ]
     },
     "metadata": {},
     "output_type": "display_data"
    },
    {
     "data": {
      "application/vnd.jupyter.widget-view+json": {
       "model_id": "",
       "version_major": 2,
       "version_minor": 0
      },
      "text/plain": [
       "episode:   0%|          | 0/5000 [00:00<?, ?it/s]"
      ]
     },
     "metadata": {},
     "output_type": "display_data"
    },
    {
     "data": {
      "application/vnd.jupyter.widget-view+json": {
       "model_id": "",
       "version_major": 2,
       "version_minor": 0
      },
      "text/plain": [
       "episode:   0%|          | 0/5000 [00:00<?, ?it/s]"
      ]
     },
     "metadata": {},
     "output_type": "display_data"
    },
    {
     "data": {
      "application/vnd.jupyter.widget-view+json": {
       "model_id": "681c2e5d962b4211905090a4d2329bc6",
       "version_major": 2,
       "version_minor": 0
      },
      "text/plain": [
       "model:   0%|          | 0/3 [00:00<?, ?it/s]"
      ]
     },
     "metadata": {},
     "output_type": "display_data"
    },
    {
     "data": {
      "application/vnd.jupyter.widget-view+json": {
       "model_id": "",
       "version_major": 2,
       "version_minor": 0
      },
      "text/plain": [
       "episode:   0%|          | 0/5000 [00:00<?, ?it/s]"
      ]
     },
     "metadata": {},
     "output_type": "display_data"
    },
    {
     "data": {
      "application/vnd.jupyter.widget-view+json": {
       "model_id": "",
       "version_major": 2,
       "version_minor": 0
      },
      "text/plain": [
       "episode:   0%|          | 0/5000 [00:00<?, ?it/s]"
      ]
     },
     "metadata": {},
     "output_type": "display_data"
    },
    {
     "data": {
      "application/vnd.jupyter.widget-view+json": {
       "model_id": "",
       "version_major": 2,
       "version_minor": 0
      },
      "text/plain": [
       "episode:   0%|          | 0/5000 [00:00<?, ?it/s]"
      ]
     },
     "metadata": {},
     "output_type": "display_data"
    },
    {
     "data": {
      "application/vnd.jupyter.widget-view+json": {
       "model_id": "a9b0f0572efe4633a01f671dd6ea9c18",
       "version_major": 2,
       "version_minor": 0
      },
      "text/plain": [
       "model:   0%|          | 0/3 [00:00<?, ?it/s]"
      ]
     },
     "metadata": {},
     "output_type": "display_data"
    },
    {
     "data": {
      "application/vnd.jupyter.widget-view+json": {
       "model_id": "",
       "version_major": 2,
       "version_minor": 0
      },
      "text/plain": [
       "episode:   0%|          | 0/5000 [00:00<?, ?it/s]"
      ]
     },
     "metadata": {},
     "output_type": "display_data"
    },
    {
     "data": {
      "application/vnd.jupyter.widget-view+json": {
       "model_id": "",
       "version_major": 2,
       "version_minor": 0
      },
      "text/plain": [
       "episode:   0%|          | 0/5000 [00:00<?, ?it/s]"
      ]
     },
     "metadata": {},
     "output_type": "display_data"
    },
    {
     "data": {
      "application/vnd.jupyter.widget-view+json": {
       "model_id": "",
       "version_major": 2,
       "version_minor": 0
      },
      "text/plain": [
       "episode:   0%|          | 0/5000 [00:00<?, ?it/s]"
      ]
     },
     "metadata": {},
     "output_type": "display_data"
    },
    {
     "data": {
      "application/vnd.jupyter.widget-view+json": {
       "model_id": "672f2ea6967d42dca50bfd84b67c084d",
       "version_major": 2,
       "version_minor": 0
      },
      "text/plain": [
       "model:   0%|          | 0/3 [00:00<?, ?it/s]"
      ]
     },
     "metadata": {},
     "output_type": "display_data"
    },
    {
     "data": {
      "application/vnd.jupyter.widget-view+json": {
       "model_id": "",
       "version_major": 2,
       "version_minor": 0
      },
      "text/plain": [
       "episode:   0%|          | 0/5000 [00:00<?, ?it/s]"
      ]
     },
     "metadata": {},
     "output_type": "display_data"
    },
    {
     "data": {
      "application/vnd.jupyter.widget-view+json": {
       "model_id": "",
       "version_major": 2,
       "version_minor": 0
      },
      "text/plain": [
       "episode:   0%|          | 0/5000 [00:00<?, ?it/s]"
      ]
     },
     "metadata": {},
     "output_type": "display_data"
    },
    {
     "data": {
      "application/vnd.jupyter.widget-view+json": {
       "model_id": "",
       "version_major": 2,
       "version_minor": 0
      },
      "text/plain": [
       "episode:   0%|          | 0/5000 [00:00<?, ?it/s]"
      ]
     },
     "metadata": {},
     "output_type": "display_data"
    },
    {
     "data": {
      "application/vnd.jupyter.widget-view+json": {
       "model_id": "51652b085b7c4c89b2c128b1f6bd3c34",
       "version_major": 2,
       "version_minor": 0
      },
      "text/plain": [
       "model:   0%|          | 0/3 [00:00<?, ?it/s]"
      ]
     },
     "metadata": {},
     "output_type": "display_data"
    },
    {
     "data": {
      "application/vnd.jupyter.widget-view+json": {
       "model_id": "",
       "version_major": 2,
       "version_minor": 0
      },
      "text/plain": [
       "episode:   0%|          | 0/5000 [00:00<?, ?it/s]"
      ]
     },
     "metadata": {},
     "output_type": "display_data"
    },
    {
     "data": {
      "application/vnd.jupyter.widget-view+json": {
       "model_id": "",
       "version_major": 2,
       "version_minor": 0
      },
      "text/plain": [
       "episode:   0%|          | 0/5000 [00:00<?, ?it/s]"
      ]
     },
     "metadata": {},
     "output_type": "display_data"
    },
    {
     "data": {
      "application/vnd.jupyter.widget-view+json": {
       "model_id": "9d78f9a1d81e4f389fd2b068988d9fd2",
       "version_major": 2,
       "version_minor": 0
      },
      "text/plain": [
       "episode:   0%|          | 0/5000 [00:00<?, ?it/s]"
      ]
     },
     "metadata": {},
     "output_type": "display_data"
    }
   ],
   "source": [
    "%%time\n",
    "rewards_10 = np.zeros((n_iters, 3, n_episodes))\n",
    "max_states_10 = np.zeros((n_iters,3,n_episodes))\n",
    "for idx in tqdm(range(n_iters), desc='iters', position=0, leave=True):\n",
    "    for jdx, model_f in tqdm(enumerate((DQN_f, DQN_D_f, DQN_GAEX_f)), desc='model', total=3, position=1, leave=True):\n",
    "        model = model_f()\n",
    "        for eps in tqdm(range(n_episodes), desc='episode', position=2, leave=False):\n",
    "            s = env.reset()\n",
    "            max_state = s\n",
    "            s = torch.tensor([s], dtype=torch.float32, device=device).unsqueeze(0)\n",
    "            reward = 0\n",
    "            for t in range(steps):\n",
    "                a = model.action(s)\n",
    "                r, s_n = env.step(a)\n",
    "\n",
    "                if t+1 == steps:\n",
    "                    s_n = None\n",
    "                else:\n",
    "                    reward += r.cpu().item()\n",
    "\n",
    "                model.remember(s, a, s_n, r)\n",
    "                sa_vals, exp_sa_vals = model.step()\n",
    "                if sa_vals is not None:\n",
    "                    model.optimize(sa_vals, exp_sa_vals)\n",
    "\n",
    "                s = s_n\n",
    "                if s is not None and s > max_state:\n",
    "                    max_state = s\n",
    "\n",
    "        rewards_10[idx][jdx][eps] = reward\n",
    "        max_states_10[idx][jdx][eps] = max_state"
   ]
  },
  {
   "cell_type": "code",
   "execution_count": null,
   "id": "142c4f9a-e550-4e56-baa2-27978c783606",
   "metadata": {},
   "outputs": [],
   "source": [
    "n_states = 200\n",
    "steps = n_states + 9\n",
    "dqn_update_freq = 2 * steps\n",
    "gan_update_freq = 2 * steps\n",
    "env = MDP_chain(n_states)"
   ]
  },
  {
   "cell_type": "code",
   "execution_count": null,
   "id": "7585b184-84af-4743-bd58-d250a906a316",
   "metadata": {},
   "outputs": [],
   "source": [
    "DQN_f = partial(DQN, dqn_update_freq)\n",
    "DQN_D_f = partial(DQN_D, n_states, dqn_update_freq, gan_update_freq)\n",
    "DQN_GAEX_f = partial(DQN_GAEX, n_states, dqn_update_freq, gan_update_freq)"
   ]
  },
  {
   "cell_type": "code",
   "execution_count": null,
   "id": "125a05d3-95a1-4dc5-837c-65e7147e7a99",
   "metadata": {},
   "outputs": [],
   "source": [
    "%%time\n",
    "rewards_200 = np.zeros((n_iters, 3, n_episodes))\n",
    "max_states_200 = np.zeros((n_iters,3,n_episodes))\n",
    "for idx in tqdm(range(n_iters), desc='iters', position=0, leave=True):\n",
    "    for jdx, model_f in tqdm(enumerate((DQN_f, DQN_D_f, DQN_GAEX_f)), desc='model', total=3, position=1, leave=True):\n",
    "        model = model_f()\n",
    "        for eps in tqdm(range(n_episodes), desc='episode', position=2, leave=False):\n",
    "            s = env.reset()\n",
    "            max_state = s\n",
    "            s = torch.tensor([s], dtype=torch.float32, device=device).unsqueeze(0)\n",
    "            reward = 0\n",
    "            for t in range(steps):\n",
    "                a = model.action(s)\n",
    "                r, s_n = env.step(a)\n",
    "\n",
    "                if t+1 == steps:\n",
    "                    s_n = None\n",
    "                else:\n",
    "                    reward += r.cpu().item()\n",
    "\n",
    "                model.remember(s, a, s_n, r)\n",
    "                sa_vals, exp_sa_vals = model.step()\n",
    "                if sa_vals is not None:\n",
    "                    model.optimize(sa_vals, exp_sa_vals)\n",
    "\n",
    "                s = s_n\n",
    "                if s is not None and s > max_state:\n",
    "                    max_state = s\n",
    "\n",
    "        rewards_200[idx][jdx][eps] = reward\n",
    "        max_states_200[idx][jdx][eps] = max_state"
   ]
  },
  {
   "cell_type": "code",
   "execution_count": null,
   "id": "7e10ae23-c029-4f7a-9ae4-b5fbc34e7a18",
   "metadata": {},
   "outputs": [],
   "source": [
    "n_states = 1000\n",
    "steps = n_states + 9\n",
    "dqn_update_freq = 2 * steps\n",
    "gan_update_freq = 2 * steps\n",
    "env = MDP_chain(n_states)"
   ]
  },
  {
   "cell_type": "code",
   "execution_count": null,
   "id": "d397e68e-b330-4407-b58f-ae570f107b96",
   "metadata": {},
   "outputs": [],
   "source": [
    "DQN_f = partial(DQN, dqn_update_freq)\n",
    "DQN_D_f = partial(DQN_D, n_states, dqn_update_freq, gan_update_freq)\n",
    "DQN_GAEX_f = partial(DQN_GAEX, n_states, dqn_update_freq, gan_update_freq)"
   ]
  },
  {
   "cell_type": "code",
   "execution_count": null,
   "id": "cd26657f-8376-457f-aba5-3af3e3c6de14",
   "metadata": {},
   "outputs": [],
   "source": [
    "%%time\n",
    "rewards_1000 = np.zeros((n_iters, 3, n_episodes))\n",
    "max_states_1000 = np.zeros((n_iters,3,n_episodes))\n",
    "for idx in tqdm(range(n_iters), desc='iters', position=0, leave=True):\n",
    "    for jdx, model_f in tqdm(enumerate((DQN_f, DQN_D_f, DQN_GAEX_f)), desc='model', total=3, position=1, leave=True):\n",
    "        model = model_f()\n",
    "        for eps in tqdm(range(n_episodes), desc='episode', position=2, leave=False):\n",
    "            s = env.reset()\n",
    "            max_state = s\n",
    "            s = torch.tensor([s], dtype=torch.float32, device=device).unsqueeze(0)\n",
    "            reward = 0\n",
    "            for t in range(steps):\n",
    "                a = model.action(s)\n",
    "                r, s_n = env.step(a)\n",
    "\n",
    "                if t+1 == steps:\n",
    "                    s_n = None\n",
    "                else:\n",
    "                    reward += r.cpu().item()\n",
    "\n",
    "                model.remember(s, a, s_n, r)\n",
    "                sa_vals, exp_sa_vals = model.step()\n",
    "                if sa_vals is not None:\n",
    "                    model.optimize(sa_vals, exp_sa_vals)\n",
    "\n",
    "                s = s_n\n",
    "                if s is not None and s > max_state:\n",
    "                    max_state = s\n",
    "\n",
    "        rewards_1000[idx][jdx][eps] = reward\n",
    "        max_states_1000[idx][jdx][eps] = max_state"
   ]
  },
  {
   "cell_type": "code",
   "execution_count": null,
   "id": "e230f012-32e3-4ae4-9242-9579505567fd",
   "metadata": {},
   "outputs": [],
   "source": [
    "plt.plot(rewards_10.mean(0)[0])\n",
    "plt.plot(rewards_10.mean(0)[1])\n",
    "plt.plot(rewards_10.mean(0)[2])"
   ]
  },
  {
   "cell_type": "code",
   "execution_count": null,
   "id": "9a47cf78-4342-47e7-b48d-4a19a24caccf",
   "metadata": {},
   "outputs": [],
   "source": [
    "plt.plot(rewards_200.mean(0)[0])\n",
    "plt.plot(rewards_200.mean(0)[1])\n",
    "plt.plot(rewards_200.mean(0)[2])"
   ]
  },
  {
   "cell_type": "code",
   "execution_count": null,
   "id": "c24aed7f-4a1e-4948-b976-78a3397d8e41",
   "metadata": {},
   "outputs": [],
   "source": [
    "plt.plot(rewards_1000.mean(0)[0])\n",
    "plt.plot(rewards_1000.mean(0)[1])\n",
    "plt.plot(rewards_1000.mean(0)[2])"
   ]
  }
 ],
 "metadata": {
  "kernelspec": {
   "display_name": "Python 3 (ipykernel)",
   "language": "python",
   "name": "python3"
  },
  "language_info": {
   "codemirror_mode": {
    "name": "ipython",
    "version": 3
   },
   "file_extension": ".py",
   "mimetype": "text/x-python",
   "name": "python",
   "nbconvert_exporter": "python",
   "pygments_lexer": "ipython3",
   "version": "3.10.11"
  }
 },
 "nbformat": 4,
 "nbformat_minor": 5
}
