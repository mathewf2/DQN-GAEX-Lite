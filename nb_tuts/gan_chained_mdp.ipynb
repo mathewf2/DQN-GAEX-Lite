{
 "cells": [
  {
   "cell_type": "code",
   "execution_count": 1,
   "id": "dd6a5420-75f7-4943-aedf-78eb4cf3b11d",
   "metadata": {},
   "outputs": [],
   "source": [
    "import torch.nn as nn\n",
    "import torch.nn.functional as F\n",
    "import torch\n",
    "import numpy as np\n",
    "from collections import namedtuple, deque"
   ]
  },
  {
   "cell_type": "code",
   "execution_count": 2,
   "id": "121c9eff-693f-4847-b51f-d8c53dfc93f0",
   "metadata": {},
   "outputs": [],
   "source": [
    "device = torch.device('cuda')"
   ]
  },
  {
   "cell_type": "code",
   "execution_count": 3,
   "id": "9ef3fb6b-a3ab-4750-adb2-1237436b95e4",
   "metadata": {},
   "outputs": [],
   "source": [
    "Transition = namedtuple('Transition', ('state', 'action', 'next_state', 'reward'))"
   ]
  },
  {
   "cell_type": "code",
   "execution_count": 4,
   "id": "174e38ac-b553-4a87-9b80-2078302da6a2",
   "metadata": {},
   "outputs": [],
   "source": [
    "class ReplayMemory(object):\n",
    "    \n",
    "    def __init__(self, capacity):\n",
    "        self.memory = deque([], maxlen=capacity)\n",
    "    \n",
    "    def push(self, *args):\n",
    "        self.memory.append(Transition(*args))\n",
    "        \n",
    "    def sample(self, batch_size):\n",
    "        return random.sample(self.memory, batch_size)\n",
    "    \n",
    "    def __len__(self):\n",
    "        return len(self.memory)"
   ]
  },
  {
   "cell_type": "code",
   "execution_count": 5,
   "id": "8246774f-4833-4204-a554-e4e0838a8e60",
   "metadata": {},
   "outputs": [],
   "source": [
    "batch_size = 3"
   ]
  },
  {
   "cell_type": "code",
   "execution_count": 6,
   "id": "b9149cbe-1327-4763-8a5a-ba98097d721c",
   "metadata": {},
   "outputs": [],
   "source": [
    "class Generator(nn.Module):\n",
    "    def __init__(self, n_states):\n",
    "        super(Generator, self).__init__()\n",
    "        self.model = nn.Sequential(\n",
    "            nn.Linear(n_states, 50),\n",
    "            nn.LeakyReLU(0.01, inplace=True),\n",
    "            nn.Linear(50, n_states),\n",
    "        )\n",
    "        \n",
    "    def forward(self, x):\n",
    "        x = self.model(x)\n",
    "        return x"
   ]
  },
  {
   "cell_type": "code",
   "execution_count": 7,
   "id": "5fff6147-f0d2-4954-866e-5dc302c04346",
   "metadata": {},
   "outputs": [],
   "source": [
    "class Discriminator(nn.Module):\n",
    "    def __init__(self, n_states):\n",
    "        super(Discriminator, self).__init__()\n",
    "        self.model = nn.Sequential(\n",
    "            nn.Linear(n_states, 50),\n",
    "            nn.LeakyReLU(0.01, inplace=True),\n",
    "            nn.Linear(50, 1),\n",
    "            nn.Sigmoid()\n",
    "        )\n",
    "        \n",
    "    def forward(self, x):\n",
    "        x = self.model(x)\n",
    "        return x"
   ]
  },
  {
   "cell_type": "code",
   "execution_count": 8,
   "id": "f8e27621-a1d2-4d17-bc0a-b23dff583ea2",
   "metadata": {},
   "outputs": [],
   "source": [
    "batch_size = 3\n",
    "n_states = 10\n",
    "lr = 0.001"
   ]
  },
  {
   "cell_type": "code",
   "execution_count": 9,
   "id": "7cad912b-862b-4b43-be28-4d0460e7ca4e",
   "metadata": {},
   "outputs": [
    {
     "data": {
      "text/plain": [
       "array([9, 2, 1])"
      ]
     },
     "execution_count": 9,
     "metadata": {},
     "output_type": "execute_result"
    }
   ],
   "source": [
    "rnd = np.random.choice(np.arange(10), batch_size)\n",
    "rnd"
   ]
  },
  {
   "cell_type": "code",
   "execution_count": 10,
   "id": "901466bd-571d-4fbf-a791-48f1a885b1ca",
   "metadata": {},
   "outputs": [
    {
     "data": {
      "text/plain": [
       "tensor([9, 2, 1])"
      ]
     },
     "execution_count": 10,
     "metadata": {},
     "output_type": "execute_result"
    }
   ],
   "source": [
    "torch.from_numpy(rnd)"
   ]
  },
  {
   "cell_type": "code",
   "execution_count": 11,
   "id": "f188fbdf-e47b-4706-9c7a-8181afccaf11",
   "metadata": {},
   "outputs": [
    {
     "data": {
      "text/plain": [
       "tensor([[0, 0, 0, 0, 0, 0, 0, 0, 0, 1],\n",
       "        [0, 0, 1, 0, 0, 0, 0, 0, 0, 0],\n",
       "        [0, 1, 0, 0, 0, 0, 0, 0, 0, 0]])"
      ]
     },
     "execution_count": 11,
     "metadata": {},
     "output_type": "execute_result"
    }
   ],
   "source": [
    "F.one_hot(torch.from_numpy(rnd), num_classes=10)"
   ]
  },
  {
   "cell_type": "code",
   "execution_count": 12,
   "id": "4daa0e8e-0259-4587-93b9-733efd130385",
   "metadata": {},
   "outputs": [],
   "source": [
    "D = Discriminator(n_states)\n",
    "D_opt = torch.optim.Adam(D.parameters(), lr=lr)\n",
    "G = Generator(n_states)\n",
    "G_opt = torch.optim.Adam(G.parameters(), lr=lr)\n",
    "criterion = nn.BCELoss()"
   ]
  },
  {
   "cell_type": "code",
   "execution_count": 13,
   "id": "dfa9cdad-0792-4a93-a890-12bbdb7d89e5",
   "metadata": {},
   "outputs": [],
   "source": [
    "x = F.one_hot(torch.from_numpy(rnd), num_classes=10)\n",
    "x = x.float()"
   ]
  },
  {
   "cell_type": "code",
   "execution_count": 14,
   "id": "7ab9cfbf-dbf5-480b-951a-a5d53f51dd68",
   "metadata": {},
   "outputs": [
    {
     "data": {
      "text/plain": [
       "tensor([[0.5473],\n",
       "        [0.5301],\n",
       "        [0.5383]], grad_fn=<SigmoidBackward0>)"
      ]
     },
     "execution_count": 14,
     "metadata": {},
     "output_type": "execute_result"
    }
   ],
   "source": [
    "D(x)"
   ]
  },
  {
   "cell_type": "code",
   "execution_count": 15,
   "id": "e08f83ff-d67c-4ea8-8e4f-ec82a5c27b2e",
   "metadata": {},
   "outputs": [],
   "source": [
    "labels = torch.ones(batch_size)"
   ]
  },
  {
   "cell_type": "code",
   "execution_count": 16,
   "id": "dac7a9c9-0b92-4475-aaf7-5a5daf378474",
   "metadata": {},
   "outputs": [
    {
     "data": {
      "text/plain": [
       "tensor([[ 0.2442,  0.2480,  0.2726,  0.2822, -0.1477,  0.0340, -0.0071, -0.4850,\n",
       "          0.1369,  0.5594],\n",
       "        [-0.0065, -0.0866, -0.0385, -0.0149, -0.0026,  0.0224, -0.0984,  0.2024,\n",
       "         -0.0064,  0.2346],\n",
       "        [ 0.3048,  0.5615,  0.4681,  0.2669,  0.1271,  0.3877, -0.3517, -0.5092,\n",
       "          0.4134,  0.6463]], grad_fn=<AddmmBackward0>)"
      ]
     },
     "execution_count": 16,
     "metadata": {},
     "output_type": "execute_result"
    }
   ],
   "source": [
    "noise = torch.randn(batch_size, n_states)\n",
    "G(noise)"
   ]
  },
  {
   "cell_type": "code",
   "execution_count": 17,
   "id": "b638f07a-5711-483e-ac31-e2c585232813",
   "metadata": {},
   "outputs": [
    {
     "name": "stdout",
     "output_type": "stream",
     "text": [
      "tensor([[0.5473],\n",
      "        [0.5301],\n",
      "        [0.5383]], grad_fn=<SigmoidBackward0>) tensor([[1.],\n",
      "        [1.],\n",
      "        [1.]])\n"
     ]
    }
   ],
   "source": [
    "D.zero_grad()\n",
    "x = F.one_hot(torch.from_numpy(rnd), num_classes=10).float()\n",
    "labels = torch.ones(batch_size)\n",
    "out = D(x)\n",
    "print(out, labels.unsqueeze(1))\n",
    "D_loss = criterion(out, labels.unsqueeze(1))\n",
    "D_loss.backward()\n",
    "\n",
    "noise = torch.randn(batch_size, n_states)\n",
    "fake = G(noise)\n",
    "labels.fill_(0)\n",
    "\n",
    "out = D(fake.detach())\n",
    "D_loss = criterion(out, labels.unsqueeze(1))\n",
    "\n",
    "D_loss.backward()\n",
    "D_opt.step()\n",
    "\n",
    "G.zero_grad()\n",
    "labels.fill_(1)\n",
    "out = D(fake)\n",
    "G_loss = criterion(out, labels.unsqueeze(1))\n",
    "G_loss.backward()\n",
    "G_opt.step()"
   ]
  },
  {
   "cell_type": "code",
   "execution_count": null,
   "id": "257071df-56a5-42a2-8d4f-ac788c93165d",
   "metadata": {},
   "outputs": [],
   "source": []
  }
 ],
 "metadata": {
  "kernelspec": {
   "display_name": "Python 3 (ipykernel)",
   "language": "python",
   "name": "python3"
  },
  "language_info": {
   "codemirror_mode": {
    "name": "ipython",
    "version": 3
   },
   "file_extension": ".py",
   "mimetype": "text/x-python",
   "name": "python",
   "nbconvert_exporter": "python",
   "pygments_lexer": "ipython3",
   "version": "3.10.11"
  }
 },
 "nbformat": 4,
 "nbformat_minor": 5
}
