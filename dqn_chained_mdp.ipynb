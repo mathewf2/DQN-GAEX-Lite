{
 "cells": [
  {
   "cell_type": "code",
   "execution_count": 1,
   "id": "98a58673-a8d6-4193-9f6e-3ff7c09d183b",
   "metadata": {},
   "outputs": [],
   "source": [
    "import gymnasium as gym\n",
    "from gymnasium import spaces\n",
    "import math\n",
    "import random\n",
    "import matplotlib\n",
    "import matplotlib.pyplot as plt\n",
    "from collections import namedtuple, deque\n",
    "from itertools import count\n",
    "import torch\n",
    "import torch.nn as nn\n",
    "import torch.optim as optim\n",
    "import torch.nn.functional as F\n",
    "import tqdm\n",
    "\n",
    "from IPython import display"
   ]
  },
  {
   "cell_type": "code",
   "execution_count": 2,
   "id": "9d2ecb77-f7bd-404a-b656-878236c59df0",
   "metadata": {},
   "outputs": [],
   "source": [
    "device = torch.device('cuda')"
   ]
  },
  {
   "cell_type": "code",
   "execution_count": 3,
   "id": "531bdbff-f990-49da-8e56-793b95300330",
   "metadata": {},
   "outputs": [],
   "source": [
    "Transition = namedtuple('Transition', ('state', 'action', 'next_state', 'reward'))"
   ]
  },
  {
   "cell_type": "code",
   "execution_count": 4,
   "id": "2d6aa797-d72f-429a-8ae6-31eec3dfe912",
   "metadata": {},
   "outputs": [],
   "source": [
    "class ReplayMemory(object):\n",
    "    \n",
    "    def __init__(self, capacity):\n",
    "        self.memory = deque([], maxlen=capacity)\n",
    "    \n",
    "    def push(self, *args):\n",
    "        self.memory.append(Transition(*args))\n",
    "        \n",
    "    def sample(self, batch_size):\n",
    "        return random.sample(self.memory, batch_size)\n",
    "    \n",
    "    def __len__(self):\n",
    "        return len(self.memory)"
   ]
  },
  {
   "cell_type": "code",
   "execution_count": 5,
   "id": "75aab60c-a504-4e10-8a1b-16f98b370f22",
   "metadata": {
    "tags": []
   },
   "outputs": [],
   "source": [
    "class MDP():\n",
    "    \n",
    "    def __init__(self, n_states, render_mode=None):\n",
    "        self.start = 2\n",
    "        self.n = n_states\n",
    "        self.state = self.start\n",
    "        \n",
    "    def step(self, action):\n",
    "        state_delta = action if action else - 1\n",
    "        s_n = min(self.n, max(1, self.state + state_delta))\n",
    "        r = 1 if (self.state == self.n and s_n == self.n) else 1/1000 if (self.state == 1 and s_n == 1) else 0\n",
    "        self.state = s_n\n",
    "        return torch.tensor([r], dtype=torch.float32, device=device), torch.tensor([self.state], dtype=torch.float32, device=device).unsqueeze(0)\n",
    "\n",
    "    def reset(self):\n",
    "        self.state = self.start\n",
    "        return self.state"
   ]
  },
  {
   "cell_type": "code",
   "execution_count": 6,
   "id": "484f9f2e-f54b-48c4-9e77-19ddc3ad075b",
   "metadata": {},
   "outputs": [],
   "source": [
    "class DQN(nn.Module):\n",
    "    \n",
    "    def __init__(self, n_observations, n_actions):\n",
    "        super(DQN, self).__init__()\n",
    "        self.model = nn.Sequential(\n",
    "            nn.Linear(n_observations, 64),\n",
    "            nn.ReLU(),\n",
    "            nn.Linear(64, 128),\n",
    "            nn.ReLU(),\n",
    "            nn.Linear(128, 256),\n",
    "            nn.ReLU(),\n",
    "            nn.Linear(256, 128),\n",
    "            nn.ReLU(),\n",
    "            nn.Linear(128, n_actions)\n",
    "        )\n",
    "        \n",
    "    def forward(self, x):\n",
    "        return self.model(x)"
   ]
  },
  {
   "cell_type": "code",
   "execution_count": 7,
   "id": "40c78601-6937-4c59-9cf4-847e006caf2d",
   "metadata": {},
   "outputs": [],
   "source": [
    "lr = 0.005\n",
    "gamma = 0.99\n",
    "batch_size = 300\n",
    "e_strt = 1.0\n",
    "e_fin = 0.0\n",
    "e_decay = 0.0005"
   ]
  },
  {
   "cell_type": "code",
   "execution_count": 8,
   "id": "5d00d751-2784-4d09-9930-399dd63aa020",
   "metadata": {},
   "outputs": [],
   "source": [
    "n_states = 10\n",
    "steps = n_states + 9\n",
    "env = MDP(n_states)"
   ]
  },
  {
   "cell_type": "code",
   "execution_count": 9,
   "id": "c8631c2a-8037-4ba6-aad3-2d2f6d4c9d38",
   "metadata": {},
   "outputs": [],
   "source": [
    "n_actions = 2\n",
    "n_observations = 1"
   ]
  },
  {
   "cell_type": "code",
   "execution_count": 10,
   "id": "dd673e9d-b81e-4305-b635-4cf61192c48c",
   "metadata": {},
   "outputs": [],
   "source": [
    "def select_action(state, t):\n",
    "    epsilon = e_fin + (e_strt - e_fin) * math.exp(-t * e_decay)\n",
    "    sample = random.random()\n",
    "    if sample > epsilon:\n",
    "        with torch.no_grad():\n",
    "            return policy_net(state).max(1)[1].view(1,1).to(device)\n",
    "    else:\n",
    "        return torch.tensor([[random.choice([0,1])]], device=device, dtype=torch.long)"
   ]
  },
  {
   "cell_type": "code",
   "execution_count": 42,
   "id": "f925b3b2-f8ca-43dc-9adc-b41316887795",
   "metadata": {},
   "outputs": [],
   "source": [
    "def optimize_model():\n",
    "    if len(memory) < batch_size:\n",
    "        print('pog')\n",
    "        return\n",
    "    transitions = memory.sample(batch_size)\n",
    "    batch = Transition(*zip(*transitions))\n",
    "    \n",
    "    state_batch = torch.cat(batch.state)\n",
    "    action_batch = torch.cat(batch.action)\n",
    "    reward_batch = torch.cat(batch.reward)\n",
    "    \n",
    "    state_action_values = policy_net(state_batch).gather(1, action_batch)\n",
    "    \n",
    "    non_final_mask = torch.tensor(tuple(map(lambda s: s is not None, batch.next_state)), device=device, dtype=torch.bool)\n",
    "    non_final_next_states = torch.cat([s for s in batch.next_state if s is not None])\n",
    "    # print(non_final_next_states.size(), non_final_next_states)\n",
    "    \n",
    "    next_state_values = torch.zeros(batch_size, device=device)\n",
    "    with torch.no_grad():\n",
    "        next_state_values[non_final_mask] = target_net(non_final_next_states).max(1)[0]\n",
    "    \n",
    "    expected_state_action_values = reward_batch + gamma * next_state_values\n",
    "    criterion = nn.SmoothL1Loss()\n",
    "    loss = criterion(state_action_values, expected_state_action_values.unsqueeze(1))\n",
    "    \n",
    "    optimizer.zero_grad()\n",
    "    loss.backward()\n",
    "    optimizer.step()"
   ]
  },
  {
   "cell_type": "code",
   "execution_count": 45,
   "id": "171554e0-09da-4fc6-b1e6-a2a37736d0dd",
   "metadata": {},
   "outputs": [],
   "source": [
    "policy_net = DQN(n_observations, n_actions).to(device)\n",
    "target_net = DQN(n_observations, n_actions).to(device)\n",
    "target_net.load_state_dict(policy_net.state_dict())\n",
    "\n",
    "optimizer = optim.Adam(policy_net.parameters(), lr=lr)\n",
    "memory = ReplayMemory(10000)\n",
    "\n",
    "n_episodes = 1000"
   ]
  },
  {
   "cell_type": "code",
   "execution_count": 46,
   "id": "f1bbd6d6-24d6-4175-8e6d-97ad2de90757",
   "metadata": {},
   "outputs": [
    {
     "name": "stderr",
     "output_type": "stream",
     "text": [
      "  0%|▌                                                                                                                                                                                              | 3/1000 [00:00<00:39, 25.32it/s]"
     ]
    },
    {
     "name": "stdout",
     "output_type": "stream",
     "text": [
      "pog\n",
      "pog\n",
      "pog\n",
      "pog\n",
      "pog\n",
      "pog\n",
      "pog\n",
      "pog\n",
      "pog\n",
      "pog\n",
      "pog\n",
      "pog\n",
      "pog\n",
      "pog\n",
      "pog\n",
      "pog\n",
      "pog\n",
      "pog\n",
      "tensor([[1.]], device='cuda:0')\n",
      "pog\n",
      "pog\n",
      "pog\n",
      "pog\n",
      "pog\n",
      "pog\n",
      "pog\n",
      "pog\n",
      "pog\n",
      "pog\n",
      "pog\n",
      "pog\n",
      "pog\n",
      "pog\n",
      "pog\n",
      "pog\n",
      "pog\n",
      "pog\n",
      "pog\n",
      "tensor([[8.]], device='cuda:0')\n",
      "pog\n",
      "pog\n",
      "pog\n",
      "pog\n",
      "pog\n",
      "pog\n",
      "pog\n",
      "pog\n",
      "pog\n",
      "pog\n",
      "pog\n",
      "pog\n",
      "pog\n",
      "pog\n",
      "pog\n",
      "pog\n",
      "pog\n",
      "pog\n",
      "pog\n",
      "tensor([[1.]], device='cuda:0')\n",
      "pog\n",
      "pog\n",
      "pog\n",
      "pog\n",
      "pog\n",
      "pog\n",
      "pog\n",
      "pog\n",
      "pog\n",
      "pog\n",
      "pog\n",
      "pog\n",
      "pog\n",
      "pog\n",
      "pog\n",
      "pog\n",
      "pog\n",
      "pog\n",
      "pog\n",
      "tensor([[9.]], device='cuda:0')\n",
      "pog\n",
      "pog\n",
      "pog\n",
      "pog\n",
      "pog\n",
      "pog\n",
      "pog\n",
      "pog\n",
      "pog\n",
      "pog\n",
      "pog\n",
      "pog\n",
      "pog\n",
      "pog\n",
      "pog\n",
      "pog\n",
      "pog\n",
      "pog\n",
      "pog\n",
      "tensor([[2.]], device='cuda:0')\n",
      "pog\n",
      "pog\n",
      "pog\n",
      "pog\n",
      "pog\n",
      "pog\n",
      "pog\n",
      "pog\n",
      "pog\n",
      "pog\n",
      "pog\n",
      "pog\n",
      "pog\n",
      "pog\n",
      "pog\n",
      "pog\n",
      "pog\n"
     ]
    },
    {
     "name": "stderr",
     "output_type": "stream",
     "text": [
      "  1%|██                                                                                                                                                                                            | 11/1000 [00:00<00:29, 33.63it/s]"
     ]
    },
    {
     "name": "stdout",
     "output_type": "stream",
     "text": [
      "pog\n",
      "pog\n",
      "tensor([[1.]], device='cuda:0')\n",
      "pog\n",
      "pog\n",
      "pog\n",
      "pog\n",
      "pog\n",
      "pog\n",
      "pog\n",
      "pog\n",
      "pog\n",
      "pog\n",
      "pog\n",
      "pog\n",
      "pog\n",
      "pog\n",
      "pog\n",
      "pog\n",
      "pog\n",
      "pog\n",
      "pog\n",
      "tensor([[5.]], device='cuda:0')\n",
      "pog\n",
      "pog\n",
      "pog\n",
      "pog\n",
      "pog\n",
      "pog\n",
      "pog\n",
      "pog\n",
      "pog\n",
      "pog\n",
      "pog\n",
      "pog\n",
      "pog\n",
      "pog\n",
      "pog\n",
      "pog\n",
      "pog\n",
      "pog\n",
      "pog\n",
      "tensor([[8.]], device='cuda:0')\n",
      "pog\n",
      "pog\n",
      "pog\n",
      "pog\n",
      "pog\n",
      "pog\n",
      "pog\n",
      "pog\n",
      "pog\n",
      "pog\n",
      "pog\n",
      "pog\n",
      "pog\n",
      "pog\n",
      "pog\n",
      "pog\n",
      "pog\n",
      "pog\n",
      "pog\n",
      "tensor([[6.]], device='cuda:0')\n",
      "pog\n",
      "pog\n",
      "pog\n",
      "pog\n",
      "pog\n",
      "pog\n",
      "pog\n",
      "pog\n",
      "pog\n",
      "pog\n",
      "pog\n",
      "pog\n",
      "pog\n",
      "pog\n",
      "pog\n",
      "pog\n",
      "pog\n",
      "pog\n",
      "pog\n",
      "tensor([[1.]], device='cuda:0')\n",
      "pog\n",
      "pog\n",
      "pog\n",
      "pog\n",
      "pog\n",
      "pog\n",
      "pog\n",
      "pog\n",
      "pog\n",
      "pog\n",
      "pog\n",
      "pog\n",
      "pog\n",
      "pog\n",
      "pog\n",
      "pog\n",
      "pog\n",
      "pog\n",
      "pog\n",
      "tensor([[3.]], device='cuda:0')\n",
      "pog\n",
      "pog\n",
      "pog\n",
      "pog\n",
      "pog\n",
      "pog\n",
      "pog\n",
      "pog\n",
      "pog\n",
      "pog\n",
      "pog\n",
      "pog\n",
      "pog\n",
      "pog\n",
      "pog\n",
      "pog\n",
      "pog\n",
      "pog\n",
      "pog\n",
      "tensor([[6.]], device='cuda:0')\n",
      "pog\n",
      "pog\n",
      "pog\n",
      "pog\n",
      "pog\n",
      "pog\n",
      "pog\n",
      "pog\n",
      "pog\n",
      "pog\n",
      "pog\n",
      "pog\n",
      "pog\n",
      "pog\n",
      "pog\n",
      "pog\n",
      "pog\n",
      "pog\n",
      "pog\n",
      "tensor([[1.]], device='cuda:0')\n",
      "pog\n",
      "pog\n",
      "pog\n",
      "pog\n",
      "pog\n",
      "pog\n",
      "pog\n",
      "pog\n",
      "pog\n",
      "pog\n",
      "pog\n",
      "pog\n",
      "pog\n",
      "pog\n",
      "pog\n",
      "pog\n",
      "pog\n",
      "pog\n",
      "pog\n",
      "tensor([[10.]], device='cuda:0')\n",
      "pog\n",
      "pog\n"
     ]
    },
    {
     "name": "stderr",
     "output_type": "stream",
     "text": [
      "  2%|███                                                                                                                                                                                           | 16/1000 [00:00<00:28, 34.68it/s]"
     ]
    },
    {
     "name": "stdout",
     "output_type": "stream",
     "text": [
      "pog\n",
      "pog\n",
      "pog\n",
      "pog\n",
      "pog\n",
      "pog\n",
      "pog\n",
      "pog\n",
      "pog\n",
      "pog\n",
      "pog\n",
      "pog\n",
      "pog\n",
      "pog\n",
      "pog\n",
      "pog\n",
      "pog\n",
      "tensor([[6.]], device='cuda:0')\n",
      "pog\n",
      "pog\n",
      "pog\n",
      "pog\n",
      "pog\n",
      "pog\n",
      "pog\n",
      "pog\n",
      "pog\n",
      "pog\n",
      "pog\n",
      "pog\n",
      "pog\n",
      "pog\n",
      "pog\n",
      "tensor([[2.]], device='cuda:0')\n",
      "tensor([[1.]], device='cuda:0')\n"
     ]
    },
    {
     "name": "stderr",
     "output_type": "stream",
     "text": [
      "  2%|███▊                                                                                                                                                                                          | 20/1000 [00:00<00:52, 18.79it/s]"
     ]
    },
    {
     "name": "stdout",
     "output_type": "stream",
     "text": [
      "tensor([[10.]], device='cuda:0')\n",
      "tensor([[2.]], device='cuda:0')\n",
      "tensor([[8.]], device='cuda:0')\n"
     ]
    },
    {
     "name": "stderr",
     "output_type": "stream",
     "text": [
      "  2%|████▎                                                                                                                                                                                         | 23/1000 [00:01<01:02, 15.56it/s]"
     ]
    },
    {
     "name": "stdout",
     "output_type": "stream",
     "text": [
      "tensor([[9.]], device='cuda:0')\n",
      "tensor([[1.]], device='cuda:0')\n",
      "tensor([[1.]], device='cuda:0')\n"
     ]
    },
    {
     "name": "stderr",
     "output_type": "stream",
     "text": [
      "  3%|████▉                                                                                                                                                                                         | 26/1000 [00:01<01:12, 13.50it/s]"
     ]
    },
    {
     "name": "stdout",
     "output_type": "stream",
     "text": [
      "tensor([[10.]], device='cuda:0')\n",
      "tensor([[9.]], device='cuda:0')\n",
      "tensor([[7.]], device='cuda:0')\n"
     ]
    },
    {
     "name": "stderr",
     "output_type": "stream",
     "text": [
      "  3%|█████▎                                                                                                                                                                                        | 28/1000 [00:01<01:16, 12.74it/s]"
     ]
    },
    {
     "name": "stdout",
     "output_type": "stream",
     "text": [
      "tensor([[6.]], device='cuda:0')\n",
      "tensor([[5.]], device='cuda:0')\n"
     ]
    },
    {
     "name": "stderr",
     "output_type": "stream",
     "text": [
      "  3%|█████▋                                                                                                                                                                                        | 30/1000 [00:01<01:23, 11.59it/s]"
     ]
    },
    {
     "name": "stdout",
     "output_type": "stream",
     "text": [
      "tensor([[9.]], device='cuda:0')\n",
      "tensor([[10.]], device='cuda:0')\n"
     ]
    },
    {
     "name": "stderr",
     "output_type": "stream",
     "text": [
      "  3%|██████                                                                                                                                                                                        | 32/1000 [00:02<01:27, 11.06it/s]"
     ]
    },
    {
     "name": "stdout",
     "output_type": "stream",
     "text": [
      "tensor([[7.]], device='cuda:0')\n",
      "tensor([[9.]], device='cuda:0')\n",
      "tensor([[9.]], device='cuda:0')\n"
     ]
    },
    {
     "name": "stderr",
     "output_type": "stream",
     "text": [
      "  3%|██████▍                                                                                                                                                                                       | 34/1000 [00:02<01:29, 10.81it/s]"
     ]
    },
    {
     "name": "stdout",
     "output_type": "stream",
     "text": [
      "tensor([[6.]], device='cuda:0')\n",
      "tensor([[3.]], device='cuda:0')\n"
     ]
    },
    {
     "name": "stderr",
     "output_type": "stream",
     "text": [
      "  4%|██████▊                                                                                                                                                                                       | 36/1000 [00:02<01:33, 10.34it/s]"
     ]
    },
    {
     "name": "stdout",
     "output_type": "stream",
     "text": [
      "tensor([[7.]], device='cuda:0')\n",
      "tensor([[8.]], device='cuda:0')\n"
     ]
    },
    {
     "name": "stderr",
     "output_type": "stream",
     "text": [
      "  4%|███████▏                                                                                                                                                                                      | 38/1000 [00:02<01:34, 10.17it/s]"
     ]
    },
    {
     "name": "stdout",
     "output_type": "stream",
     "text": [
      "tensor([[10.]], device='cuda:0')\n",
      "tensor([[8.]], device='cuda:0')\n"
     ]
    },
    {
     "name": "stderr",
     "output_type": "stream",
     "text": [
      "  4%|███████▌                                                                                                                                                                                      | 40/1000 [00:02<01:09, 13.72it/s]"
     ]
    },
    {
     "name": "stdout",
     "output_type": "stream",
     "text": [
      "tensor([[6.]], device='cuda:0')\n"
     ]
    },
    {
     "name": "stderr",
     "output_type": "stream",
     "text": [
      "\n"
     ]
    },
    {
     "ename": "KeyboardInterrupt",
     "evalue": "",
     "output_type": "error",
     "traceback": [
      "\u001b[0;31m---------------------------------------------------------------------------\u001b[0m",
      "\u001b[0;31mKeyboardInterrupt\u001b[0m                         Traceback (most recent call last)",
      "File \u001b[0;32m<timed exec>:25\u001b[0m\n",
      "Cell \u001b[0;32mIn[42], line 14\u001b[0m, in \u001b[0;36moptimize_model\u001b[0;34m()\u001b[0m\n\u001b[1;32m     10\u001b[0m reward_batch \u001b[38;5;241m=\u001b[39m torch\u001b[38;5;241m.\u001b[39mcat(batch\u001b[38;5;241m.\u001b[39mreward)\n\u001b[1;32m     12\u001b[0m state_action_values \u001b[38;5;241m=\u001b[39m policy_net(state_batch)\u001b[38;5;241m.\u001b[39mgather(\u001b[38;5;241m1\u001b[39m, action_batch)\n\u001b[0;32m---> 14\u001b[0m non_final_mask \u001b[38;5;241m=\u001b[39m \u001b[43mtorch\u001b[49m\u001b[38;5;241;43m.\u001b[39;49m\u001b[43mtensor\u001b[49m\u001b[43m(\u001b[49m\u001b[38;5;28;43mtuple\u001b[39;49m\u001b[43m(\u001b[49m\u001b[38;5;28;43mmap\u001b[39;49m\u001b[43m(\u001b[49m\u001b[38;5;28;43;01mlambda\u001b[39;49;00m\u001b[43m \u001b[49m\u001b[43ms\u001b[49m\u001b[43m:\u001b[49m\u001b[43m \u001b[49m\u001b[43ms\u001b[49m\u001b[43m \u001b[49m\u001b[38;5;129;43;01mis\u001b[39;49;00m\u001b[43m \u001b[49m\u001b[38;5;129;43;01mnot\u001b[39;49;00m\u001b[43m \u001b[49m\u001b[38;5;28;43;01mNone\u001b[39;49;00m\u001b[43m,\u001b[49m\u001b[43m \u001b[49m\u001b[43mbatch\u001b[49m\u001b[38;5;241;43m.\u001b[39;49m\u001b[43mnext_state\u001b[49m\u001b[43m)\u001b[49m\u001b[43m)\u001b[49m\u001b[43m,\u001b[49m\u001b[43m \u001b[49m\u001b[43mdevice\u001b[49m\u001b[38;5;241;43m=\u001b[39;49m\u001b[43mdevice\u001b[49m\u001b[43m,\u001b[49m\u001b[43m \u001b[49m\u001b[43mdtype\u001b[49m\u001b[38;5;241;43m=\u001b[39;49m\u001b[43mtorch\u001b[49m\u001b[38;5;241;43m.\u001b[39;49m\u001b[43mbool\u001b[49m\u001b[43m)\u001b[49m\n\u001b[1;32m     15\u001b[0m non_final_next_states \u001b[38;5;241m=\u001b[39m torch\u001b[38;5;241m.\u001b[39mcat([s \u001b[38;5;28;01mfor\u001b[39;00m s \u001b[38;5;129;01min\u001b[39;00m batch\u001b[38;5;241m.\u001b[39mnext_state \u001b[38;5;28;01mif\u001b[39;00m s \u001b[38;5;129;01mis\u001b[39;00m \u001b[38;5;129;01mnot\u001b[39;00m \u001b[38;5;28;01mNone\u001b[39;00m])\n\u001b[1;32m     16\u001b[0m \u001b[38;5;66;03m# print(non_final_next_states.size(), non_final_next_states)\u001b[39;00m\n",
      "\u001b[0;31mKeyboardInterrupt\u001b[0m: "
     ]
    }
   ],
   "source": [
    "%%time\n",
    "count = 1\n",
    "rewards = []\n",
    "for episode in tqdm.tqdm(range(n_episodes)):\n",
    "    # print(f'episode {episode}')\n",
    "    s = env.reset()\n",
    "    s = torch.tensor([s], dtype=torch.float32, device=device).unsqueeze(0)\n",
    "    reward = 0\n",
    "    for t in range(steps):\n",
    "        a = select_action(s, episode * steps + t)\n",
    "        # print('s:', s)\n",
    "        # print('a:', a)\n",
    "        r, s_n = env.step(a)\n",
    "        \n",
    "        if t+1 == steps:\n",
    "            print(s_n)\n",
    "            s_n += 10\n",
    "        else:\n",
    "            reward += r.cpu().item()\n",
    "        # print('r:', r)\n",
    "        # print('s_n:', s_n)\n",
    "        memory.push(s, a, s_n, r)\n",
    "        s = s_n\n",
    "        # print('s again:', s)\n",
    "        \n",
    "        optimize_model()\n",
    "        \n",
    "        if not (count % 50):\n",
    "            # print('update')\n",
    "            target_net_state_dict = target_net.state_dict()\n",
    "            policy_net_state_dict = policy_net.state_dict()\n",
    "            for key in policy_net_state_dict:\n",
    "                target_net_state_dict[key] = policy_net_state_dict[key]\n",
    "            target_net.load_state_dict(target_net_state_dict)\n",
    "        \n",
    "        count += 1\n",
    "    rewards.append(reward)"
   ]
  },
  {
   "cell_type": "code",
   "execution_count": 144,
   "id": "f2ddba4f-ad04-43a3-ba89-e2457dba387e",
   "metadata": {},
   "outputs": [],
   "source": [
    "# rewards"
   ]
  },
  {
   "cell_type": "code",
   "execution_count": null,
   "id": "8b10bae4-d6bd-490e-8ce7-22505595fdca",
   "metadata": {},
   "outputs": [],
   "source": []
  },
  {
   "cell_type": "code",
   "execution_count": null,
   "id": "9cfc88b2-a9c5-4932-8307-411e5a6d8470",
   "metadata": {},
   "outputs": [
    {
     "data": {
      "text/plain": [
       "[<matplotlib.lines.Line2D at 0x7f91a14d1ff0>]"
      ]
     },
     "execution_count": 14,
     "metadata": {},
     "output_type": "execute_result"
    },
    {
     "data": {
      "image/png": "[encoded data removed]",
      "text/plain": [
       "<Figure size 640x480 with 1 Axes>"
      ]
     },
     "metadata": {},
     "output_type": "display_data"
    }
   ],
   "source": [
    "plt.plot(range(n_episodes), rewards)"
   ]
  },
  {
   "cell_type": "code",
   "execution_count": 255,
   "id": "fd82e1d1-6e72-4d01-9298-725335fee669",
   "metadata": {},
   "outputs": [],
   "source": [
    "for t in range(1000):\n",
    "    \n",
    "    eps = e_fin + (e_strt - e_fin) * math.exp(-t * e_decay)\n",
    "    # print(eps, math.exp(-1 * t / 2000))\n",
    "    # print(eps, math.exp(-t * e_decay))"
   ]
  }
 ],
 "metadata": {
  "kernelspec": {
   "display_name": "Python 3 (ipykernel)",
   "language": "python",
   "name": "python3"
  },
  "language_info": {
   "codemirror_mode": {
    "name": "ipython",
    "version": 3
   },
   "file_extension": ".py",
   "mimetype": "text/x-python",
   "name": "python",
   "nbconvert_exporter": "python",
   "pygments_lexer": "ipython3",
   "version": "3.10.11"
  }
 },
 "nbformat": 4,
 "nbformat_minor": 5
}
